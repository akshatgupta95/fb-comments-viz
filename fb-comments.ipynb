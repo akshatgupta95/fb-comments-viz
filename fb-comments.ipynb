{
 "metadata": {
  "name": "",
  "signature": "sha256:5c40fd86b5cc8711c02bdafedf66b00a761298e8b3f5d919db3c478f373ea6af"
 },
 "nbformat": 3,
 "nbformat_minor": 0,
 "worksheets": [
  {
   "cells": [
    {
     "cell_type": "heading",
     "level": 1,
     "metadata": {},
     "source": [
      "CS 467 Data Mining Assignment"
     ]
    },
    {
     "cell_type": "code",
     "collapsed": false,
     "input": [
      "import os\n",
      "import json\n",
      "from pprint import pprint"
     ],
     "language": "python",
     "metadata": {},
     "outputs": [],
     "prompt_number": 232
    },
    {
     "cell_type": "heading",
     "level": 3,
     "metadata": {},
     "source": [
      "FB Comments Parsing from JSON"
     ]
    },
    {
     "cell_type": "markdown",
     "metadata": {},
     "source": [
      "Load in All the JSON files from the path './fb_comments/'. Convert them to Python Parsable format. The JSON files needed some scrubbing as some entries were not in the right format that could be read by the Python JSON Parser"
     ]
    },
    {
     "cell_type": "code",
     "collapsed": false,
     "input": [
      "json_raw_data = []\n",
      "folder_path = './fb_comments/'\n",
      "for root, dirs, files in os.walk(folder_path):\n",
      "    for count, file in enumerate(files):\n",
      "            json_data = json.loads(open(folder_path + file).read())\n",
      "            json_raw_data.append(json_data)"
     ],
     "language": "python",
     "metadata": {},
     "outputs": [],
     "prompt_number": 233
    },
    {
     "cell_type": "markdown",
     "metadata": {},
     "source": [
      "Cleanup the data structures and Formulate the comments_metadata list that contains the comments with the corresponding timestamps"
     ]
    },
    {
     "cell_type": "code",
     "collapsed": false,
     "input": [
      "comments_metadata = []\n",
      "\n",
      "def process_dict(input_list):\n",
      "    for i in range(len(input_list)):\n",
      "        intm_dict = input_list[i]\n",
      "        if (intm_dict.has_key('comments')):\n",
      "            intm_list = intm_dict['comments']['data']\n",
      "            for j in range(len(intm_list)):\n",
      "                data_dict = intm_list[j]\n",
      "                comments_metadata.append((data_dict['created_time'], data_dict['message']))\n",
      "\n",
      "for i in range(8):\n",
      "    curr_dict = json_raw_data[i]\n",
      "    if (i == 0):\n",
      "        curr_list = curr_dict['posts']['data'][1:]\n",
      "    else:\n",
      "        curr_list = curr_dict['data'][1:]\n",
      "    process_dict(curr_list)"
     ],
     "language": "python",
     "metadata": {},
     "outputs": [],
     "prompt_number": 234
    },
    {
     "cell_type": "markdown",
     "metadata": {},
     "source": [
      "Strip the Time and Remove the ASCII characters to form well formatted strings"
     ]
    },
    {
     "cell_type": "code",
     "collapsed": false,
     "input": [
      "comments_metadata = [(str(curr_pair[0].split('T')[0]), str(curr_pair[1])) for curr_pair in comments_metadata]"
     ],
     "language": "python",
     "metadata": {},
     "outputs": [],
     "prompt_number": 235
    }
   ],
   "metadata": {}
  }
 ]
}